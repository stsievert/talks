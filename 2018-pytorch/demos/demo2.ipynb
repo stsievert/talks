{
 "cells": [
  {
   "cell_type": "markdown",
   "metadata": {},
   "source": [
    "## Training with NumPy\n",
    "It's also possible to integrate with NumPy *during training.* If desired, the entire estimator could be in NumPy.\n",
    "\n",
    "This is adapted from [PyTorch documentation on SciPy extensions][1].\n",
    "\n",
    "This demo might be desired because there are two methods for \"convolutions\":\n",
    "\n",
    "* direct (faster for typical PyTorch use case)\n",
    "* Fourier (faster for cases with two large images)\n",
    "\n",
    "SciPy's convolve makes a smart choice about which convolution method to use (it relies on SciPy's [choose_conv_method][2]).\n",
    "\n",
    "\n",
    "[1]:https://pytorch.org/tutorials/advanced/numpy_extensions_tutorial.html\n",
    "[2]:https://docs.scipy.org/doc/scipy/reference/generated/scipy.signal.choose_conv_method.html#scipy.signal.choose_conv_method"
   ]
  },
  {
   "cell_type": "code",
   "execution_count": 2,
   "metadata": {},
   "outputs": [],
   "source": [
    "import random\n",
    "from scipy.signal import convolve, correlate\n",
    "import torch\n",
    "import numpy as np"
   ]
  },
  {
   "cell_type": "code",
   "execution_count": 4,
   "metadata": {},
   "outputs": [],
   "source": [
    "from torch.autograd import Function\n",
    "from torch.nn.modules.module import Module\n",
    "from torch.nn.parameter import Parameter\n",
    "\n",
    "class ScipyConvFunction(Function):\n",
    "    @staticmethod\n",
    "    def forward(ctx, input, filter, bias):\n",
    "        # detach so we can cast to NumPy\n",
    "        input, filter, bias = input.detach(), filter.detach(), bias.detach()\n",
    "        result = correlate(input.numpy(), filter.numpy(), mode='valid')\n",
    "        result += bias.numpy()\n",
    "        ctx.save_for_backward(input, filter, bias)\n",
    "        return torch.as_tensor(result, dtype=input.dtype)\n",
    "\n",
    "    @staticmethod\n",
    "    def backward(ctx, grad_output):\n",
    "        grad_output = grad_output.detach()\n",
    "        input, filter, bias = ctx.saved_tensors\n",
    "        grad_output = grad_output.numpy()\n",
    "        grad_bias = np.sum(grad_output, keepdims=True)\n",
    "        grad_input = convolve(grad_output, filter.numpy(), mode='full')\n",
    "        \n",
    "        grad_filter = correlate(input.numpy(), grad_output, mode='valid')\n",
    "        return torch.from_numpy(grad_input), torch.from_numpy(grad_filter).to(torch.float), torch.from_numpy(grad_bias).to(torch.float)\n",
    "\n",
    "\n",
    "class ScipyConv(Module):\n",
    "    def __init__(self, filter_width, filter_height):\n",
    "        super(ScipyConv, self).__init__()\n",
    "        self.filter = Parameter(torch.randn(filter_width, filter_height))\n",
    "        self.bias = Parameter(torch.randn(1, 1))\n",
    "\n",
    "    def forward(self, input):\n",
    "        return ScipyConvFunction.apply(input, self.filter, self.bias)\n"
   ]
  },
  {
   "cell_type": "code",
   "execution_count": 6,
   "metadata": {},
   "outputs": [],
   "source": [
    "module = ScipyConv(3, 3)\n",
    "in_ = torch.randn(10, 10, requires_grad=True)\n",
    "out = module(in_)\n",
    "out.backward(torch.randn(8, 8))"
   ]
  },
  {
   "cell_type": "code",
   "execution_count": 7,
   "metadata": {},
   "outputs": [
    {
     "data": {
      "text/plain": [
       "tensor([[-0.0893, -0.3339, -0.1441],\n",
       "        [ 0.0684,  0.0345, -0.9547],\n",
       "        [ 0.6083, -0.1076, -1.8432]])"
      ]
     },
     "execution_count": 7,
     "metadata": {},
     "output_type": "execute_result"
    }
   ],
   "source": [
    "in_.grad[:3, :3]"
   ]
  },
  {
   "cell_type": "markdown",
   "metadata": {},
   "source": [
    "Great, gradients can be obtained. But are they correct?\n",
    "\n",
    "Let's check."
   ]
  },
  {
   "cell_type": "code",
   "execution_count": 8,
   "metadata": {},
   "outputs": [],
   "source": [
    "from torch.autograd.gradcheck import gradcheck"
   ]
  },
  {
   "cell_type": "code",
   "execution_count": 11,
   "metadata": {},
   "outputs": [
    {
     "name": "stdout",
     "output_type": "stream",
     "text": [
      "Are the gradients correct? True\n"
     ]
    }
   ],
   "source": [
    "moduleConv = ScipyConv(3, 3)\n",
    "\n",
    "in_ = [torch.randn(20, 20, dtype=torch.double, requires_grad=True)]\n",
    "test = gradcheck(moduleConv, in_)\n",
    "print(\"Are the gradients correct?\", test)"
   ]
  },
  {
   "cell_type": "code",
   "execution_count": null,
   "metadata": {},
   "outputs": [],
   "source": []
  },
  {
   "cell_type": "code",
   "execution_count": null,
   "metadata": {},
   "outputs": [],
   "source": []
  }
 ],
 "metadata": {
  "kernelspec": {
   "display_name": "Python 3",
   "language": "python",
   "name": "python3"
  },
  "language_info": {
   "codemirror_mode": {
    "name": "ipython",
    "version": 3
   },
   "file_extension": ".py",
   "mimetype": "text/x-python",
   "name": "python",
   "nbconvert_exporter": "python",
   "pygments_lexer": "ipython3",
   "version": "3.6.5"
  }
 },
 "nbformat": 4,
 "nbformat_minor": 2
}
