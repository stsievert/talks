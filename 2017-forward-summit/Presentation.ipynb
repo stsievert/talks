{
 "cells": [
  {
   "cell_type": "markdown",
   "metadata": {
    "slideshow": {
     "slide_type": "slide"
    }
   },
   "source": [
    "## `whoami`\n",
    "* [Scott Sievert]\n",
    "* `stsievert` [on GitHub] and [on Twitter]\n",
    "* graduate student at UW–Madison studying electrical engineering and optimization. \n",
    "* a Center for Open Science ambassador\n",
    "* an avid skier\n",
    "\n",
    "## Link to slides\n",
    "* Last thing I tweeted (under `@stsievert` handle)\n",
    "* https://github.com/stsievert/talks\n",
    "\n",
    "[on GitHub]:https://github.com/stsievert\n",
    "[on Twitter]:https://twitter.com/stsievert\n",
    "[Scott Sievert]:http://stsievert.com"
   ]
  },
  {
   "cell_type": "markdown",
   "metadata": {
    "slideshow": {
     "slide_type": "slide"
    }
   },
   "source": [
    "## Jupyter notebook features\n",
    "\n",
    "* Share input code and the output easily \n",
    "* *Interact* with code (in language of choice!)\n",
    "* Combine Markdown + math LaTeX + code easily (which allows for explanations)"
   ]
  },
  {
   "cell_type": "markdown",
   "metadata": {
    "slideshow": {
     "slide_type": "subslide"
    }
   },
   "source": [
    "* **Live demo** with Altair \n",
    "    * interaction, nbconvert, cut/paste cells, nbextensions\n",
    "* Personal Jupyter attractions\n",
    "    * can see what steps I took\n",
    "    * outputs are persistent\n",
    "    * other features (timing, profiling, widgets, etc) "
   ]
  },
  {
   "cell_type": "markdown",
   "metadata": {
    "slideshow": {
     "slide_type": "subslide"
    }
   },
   "source": [
    "## Reproducible research \n",
    "Reproducible research enabled by combination of markdown + code + math\n",
    "\n",
    "[Examples](https://github.com/jupyter/jupyter/wiki/A-gallery-of-interesting-Jupyter-Notebooks):\n",
    "\n",
    "* [LIGO gravitational waves discovery]\n",
    "* [Harvard AM207], all lectures and homework assignments in Jupyter notebooks\n",
    "* [Replication of Reinhart-Rogoff] \"Growth in a Time of Debt.\"\n",
    "* https://github.com/jakevdp/PythonDataScienceHandbook\n",
    "\n",
    "[LIGO gravitational waves discovery]:https://losc.ligo.org/s/events/GW150914/GW150914_tutorial.html\n",
    "[Replication of Reinhart-Rogoff]:https://github.com/vincentarelbundock/Reinhart-Rogoff/blob/bd46eab5cf9169977cfac6dc48e04bdfb5ee291d/reinhart-rogoff.ipynb\n",
    "[Harvard AM207]:http://am207.github.io/2016/\n",
    "[Textbooks in Jupyter]:https://github.com/jupyter/jupyter/wiki/A-gallery-of-interesting-Jupyter-Notebooks#entire-books-or-other-large-collections-of-notebooks-on-a-topic"
   ]
  },
  {
   "cell_type": "markdown",
   "metadata": {
    "slideshow": {
     "slide_type": "slide"
    }
   },
   "source": [
    "## Jupyter notebook basics\n",
    "Jupyter notebooks: a file format that links code input and it's output together. i.e.,"
   ]
  },
  {
   "cell_type": "code",
   "execution_count": 2,
   "metadata": {
    "ExecuteTime": {
     "end_time": "2017-08-22T20:35:48.711521Z",
     "start_time": "2017-08-22T20:35:48.706552Z"
    }
   },
   "outputs": [
    {
     "data": {
      "text/plain": [
       "53"
      ]
     },
     "execution_count": 2,
     "metadata": {},
     "output_type": "execute_result"
    }
   ],
   "source": [
    "x, y = 42, 11\n",
    "x + y"
   ]
  },
  {
   "cell_type": "markdown",
   "metadata": {},
   "source": [
    "* Terminology\n",
    "    * \"cell\": the code block above\n",
    "    * \"kernel\": the backend that runs cells "
   ]
  },
  {
   "cell_type": "markdown",
   "metadata": {
    "ExecuteTime": {
     "end_time": "2017-08-18T20:08:10.977231Z",
     "start_time": "2017-08-18T20:08:10.965140Z"
    },
    "slideshow": {
     "slide_type": "subslide"
    }
   },
   "source": [
    "Can view plots (again, input and output are tied together)"
   ]
  },
  {
   "cell_type": "code",
   "execution_count": 4,
   "metadata": {
    "ExecuteTime": {
     "end_time": "2017-08-22T20:36:29.509337Z",
     "start_time": "2017-08-22T20:36:29.162990Z"
    },
    "slideshow": {
     "slide_type": "-"
    }
   },
   "outputs": [
    {
     "data": {
      "text/plain": [
       "<matplotlib.axes._subplots.AxesSubplot at 0x11458f588>"
      ]
     },
     "execution_count": 4,
     "metadata": {},
     "output_type": "execute_result"
    },
    {
     "data": {
      "image/png": "[encoded data removed]",
      "text/plain": [
       "<matplotlib.figure.Figure at 0x11714d438>"
      ]
     },
     "metadata": {
      "image/png": {
       "height": 263,
       "width": 386
      }
     },
     "output_type": "display_data"
    }
   ],
   "source": [
    "import pandas as pd\n",
    "import numpy as np\n",
    "\n",
    "df = pd.DataFrame([{'x': x, 'y': x**8}\n",
    "                   for x in np.linspace(0, 2)])\n",
    "df.plot(x='x', y='y')"
   ]
  },
  {
   "cell_type": "markdown",
   "metadata": {
    "slideshow": {
     "slide_type": "subslide"
    }
   },
   "source": [
    "Output interactive? Can interact with it!"
   ]
  },
  {
   "cell_type": "code",
   "execution_count": 5,
   "metadata": {
    "ExecuteTime": {
     "end_time": "2017-08-22T20:36:38.923059Z",
     "start_time": "2017-08-22T20:36:38.880117Z"
    },
    "scrolled": true
   },
   "outputs": [
    {
     "data": {
      "application/vnd.jupyter.widget-view+json": {
       "model_id": "3cafe59ef94a42eaa5b2df355cdc9667"
      }
     },
     "metadata": {},
     "output_type": "display_data"
    },
    {
     "data": {
      "text/plain": [
       "<function __main__.f>"
      ]
     },
     "execution_count": 5,
     "metadata": {},
     "output_type": "execute_result"
    }
   ],
   "source": [
    "from ipywidgets import interact\n",
    "\n",
    "def f(x=10):\n",
    "    return x**2\n",
    "\n",
    "interact(f)"
   ]
  },
  {
   "cell_type": "markdown",
   "metadata": {},
   "source": [
    "We could also make this function return a plot."
   ]
  },
  {
   "cell_type": "markdown",
   "metadata": {
    "slideshow": {
     "slide_type": "subslide"
    }
   },
   "source": [
    "* Live formatting: plain text editing but quick previews!\n",
    "    * LaTeX math: $1 + e^{-j\\pi} = 0$\n",
    "    * Markdown formatting: **bold**, *italic*"
   ]
  },
  {
   "cell_type": "code",
   "execution_count": 48,
   "metadata": {
    "ExecuteTime": {
     "end_time": "2017-08-19T16:56:56.596747Z",
     "start_time": "2017-08-19T16:56:56.588253Z"
    },
    "collapsed": true
   },
   "outputs": [],
   "source": [
    "this_is_code = True\n",
    "this_is_code"
   ]
  },
  {
   "cell_type": "markdown",
   "metadata": {},
   "source": [
    "And it can be interspersed with code."
   ]
  },
  {
   "cell_type": "markdown",
   "metadata": {
    "slideshow": {
     "slide_type": "slide"
    }
   },
   "source": [
    "## Benefits"
   ]
  },
  {
   "cell_type": "markdown",
   "metadata": {
    "slideshow": {
     "slide_type": "-"
    }
   },
   "source": [
    "* Can more easily interact with code\n",
    "    * Easy to change one line, run cell, view output, repeat"
   ]
  },
  {
   "cell_type": "markdown",
   "metadata": {
    "slideshow": {
     "slide_type": "subslide"
    }
   },
   "source": [
    "* Cell structure → more control of what codes run, and when it runs\n",
    "    * Long running cells are easier to control (which speeds up debug cycle) \n",
    "    * Markdown/LaTeX math cells can be rendered at choice"
   ]
  },
  {
   "cell_type": "markdown",
   "metadata": {
    "slideshow": {
     "slide_type": "subslide"
    }
   },
   "source": [
    "* Easily render and share notebooks\n",
    "    * i.e., [nbviewer], [GitHub rendering]\n",
    "    \n",
    "[GitHub rendering]:https://github.com/blog/1995-github-jupyter-notebooks-3\n",
    "[nbviewer]:https://nbviewer.jupyter.org"
   ]
  },
  {
   "cell_type": "markdown",
   "metadata": {
    "ExecuteTime": {
     "end_time": "2017-08-18T20:35:35.930623Z",
     "start_time": "2017-08-18T20:35:35.924458Z"
    },
    "slideshow": {
     "slide_type": "subslide"
    }
   },
   "source": [
    "* Storing output → can interact with *output*\n",
    "    * Examples: http://jupyter.org/widgets.html\n",
    "    * Online thanks to the [ipywidgets team]!\n",
    "    \n",
    "[ipywidgets team]:https://github.com/jupyter-widgets/ipywidgets/graphs/contributors"
   ]
  },
  {
   "cell_type": "markdown",
   "metadata": {
    "slideshow": {
     "slide_type": "slide"
    }
   },
   "source": [
    "## Detail\n",
    "* Sending/receiving inputs/outputs is a general problem\n",
    "* **Jupyter is to code as HTTP is to files**"
   ]
  },
  {
   "cell_type": "markdown",
   "metadata": {
    "slideshow": {
     "slide_type": "-"
    }
   },
   "source": [
    "![](notebook_components.png)"
   ]
  },
  {
   "cell_type": "markdown",
   "metadata": {
    "slideshow": {
     "slide_type": "subslide"
    }
   },
   "source": [
    "## Remote execution\n",
    "* Can *easily* run code on remote server (e.g., EC2). Requirements:\n",
    "    * web browser to visit particular URL\n",
    "    * password (optional)\n",
    "    * clicking on big blue button\n",
    "    \n",
    "[dask tutorial]:https://github.com/dask/dask-tutorial"
   ]
  },
  {
   "cell_type": "markdown",
   "metadata": {
    "slideshow": {
     "slide_type": "subslide"
    }
   },
   "source": [
    "## Modularity\n",
    "* We can use almost any backend: Julia, Python, R, Ruby, C, C++, Octave, etc...\n",
    "    * https://github.com/jupyter/jupyter/wiki/Jupyter-kernels\n",
    "* Can use with any number of viewers:\n",
    "    * [jupyter notebook](https://github.com/jupyter/notebook), [jupyter lab](https://github.com/jupyterlab/jupyterlab), [nteract](https://github.com/nteract/nteract), [in emacs](https://github.com/millejoh/emacs-ipython-notebook), [in atom](https://atom.io/packages/hydrogen)"
   ]
  },
  {
   "cell_type": "markdown",
   "metadata": {
    "slideshow": {
     "slide_type": "subslide"
    }
   },
   "source": [
    "**Live demo** with remote server + jupyterlab.\n",
    "\n",
    "* Basics\n",
    "    * (open two files, drag and drop, console)\n",
    "* Collaboration: chatting, multiple users \n",
    "    * [18:28 at JupyterLab + Real Time Collaboration](http://www.youtube.com/watch?v=dSjvK-Z3o3U&t=18m28s)\n",
    "* Another view into notebook\n",
    "    * [PR #2829](https://github.com/jupyterlab/jupyterlab/pull/2829)\n",
    "\n",
    "Video links:\n",
    "\n",
    "* [JupyterLab: Building Blocks for Interactive Computing](https://www.youtube.com/watch?v=Ejh0ftSjk6g) at SciPy 2016 (the introduction!)\n",
    "* [JupyterLab+Real Time Collaboration](https://www.youtube.com/watch?v=dSjvK-Z3o3U&index=12), PyData Seattle 2017"
   ]
  },
  {
   "cell_type": "markdown",
   "metadata": {
    "slideshow": {
     "slide_type": "slide"
    }
   },
   "source": [
    "## Jupyter specific tools\n",
    "\n",
    "These two tools that made me prefer Jupyter over a raw script. "
   ]
  },
  {
   "cell_type": "markdown",
   "metadata": {
    "slideshow": {
     "slide_type": "-"
    }
   },
   "source": [
    "\n",
    "* [jupyter/nbdime](https://github.com/jupyter/nbdime), for diffing/merging notebooks\n",
    "* [jhamrick/nbflow](https://github.com/jhamrick/nbflow), a tool that supports one-button reproducible workflows  \n",
    "* [ipython-contrib/jupyter_contrib_nbextensions](https://github.com/ipython-contrib/jupyter_contrib_nbextensions), which has many packages.\n",
    "    * \"Select Code Mirror Codemap\" allows {Vim, Emacs, Sublime} keybindings\n",
    "    * \"Python Markdown\" allows embedding Python code in markdown (e.g., `the ranking was {{ranking}} out of {{total_ranks}}.` \n",
    "     "
   ]
  },
  {
   "cell_type": "markdown",
   "metadata": {
    "slideshow": {
     "slide_type": "subslide"
    }
   },
   "source": [
    "Other less practical tools, but useful if it's your use case:\n",
    "\n",
    "* [jupyter/dashboards](https://github.com/jupyter/dashboards) for creating dashboards with Jupyter notebooks\n",
    "* [jupyterhub](https://github.com/jupyterhub/jupyterhub), a multi-user server for Jupyter notebooks\n",
    "* [jupyter/nbgrader](https://github.com/jupyter/nbgrader) for assigning homework assignments in Jupyter\n",
    "\n",
    "[Altair]:https://altair-viz.github.io"
   ]
  },
  {
   "cell_type": "markdown",
   "metadata": {
    "slideshow": {
     "slide_type": "slide"
    }
   },
   "source": [
    "## Extras\n",
    "* Jupyter Lab: https://github.com/jupyterlab/jupyterlab\n",
    "    * *Interactive* development environment\n",
    "    * In beta shortly (announced at inaugural JupyterCon? – which is in New York *right now*)\n",
    "* [alysivji/talks/201705-jupyter-notebook-tips-and-tricks](https://github.com/alysivji/talks/tree/1a30debb63ba309d71df83755a9de5915fa15893/201705-jupyter-notebook-tips-and-tricks) (from PyCon open space, specific to Python)"
   ]
  }
 ],
 "metadata": {
  "celltoolbar": "Slideshow",
  "kernelspec": {
   "display_name": "Python [default]",
   "language": "python",
   "name": "python3"
  },
  "language_info": {
   "codemirror_mode": {
    "name": "ipython",
    "version": 3
   },
   "file_extension": ".py",
   "mimetype": "text/x-python",
   "name": "python",
   "nbconvert_exporter": "python",
   "pygments_lexer": "ipython3",
   "version": "3.6.1"
  }
 },
 "nbformat": 4,
 "nbformat_minor": 2
}
