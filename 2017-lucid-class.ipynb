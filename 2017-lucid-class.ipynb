{
 "cells": [
  {
   "cell_type": "markdown",
   "metadata": {},
   "source": [
    "* Front of the box:\n",
    "    * Want to minimize a function\n",
    "    * Example of 1D function\n",
    "    * Want to find $x$ that minimizes $\\ell(x)$.\n",
    "    * Example of 2D function\n",
    "    * Solution difficult to find in closed form. \n",
    "* Back of the box\n",
    "    * How do we do that?\n",
    "    * What does derivative tell us?\n",
    "    * That's what we do: step in direction of negative gradient"
   ]
  },
  {
   "cell_type": "markdown",
   "metadata": {},
   "source": [
    "### Notes\n",
    "* Use $y = f(x)$ for 1D example\n",
    "* Use $y = Ax$ for 2D example"
   ]
  },
  {
   "cell_type": "code",
   "execution_count": null,
   "metadata": {
    "collapsed": true
   },
   "outputs": [],
   "source": []
  }
 ],
 "metadata": {
  "kernelspec": {
   "display_name": "Python [default]",
   "language": "python",
   "name": "python3"
  },
  "language_info": {
   "codemirror_mode": {
    "name": "ipython",
    "version": 3
   },
   "file_extension": ".py",
   "mimetype": "text/x-python",
   "name": "python",
   "nbconvert_exporter": "python",
   "pygments_lexer": "ipython3",
   "version": "3.6.1"
  }
 },
 "nbformat": 4,
 "nbformat_minor": 2
}
