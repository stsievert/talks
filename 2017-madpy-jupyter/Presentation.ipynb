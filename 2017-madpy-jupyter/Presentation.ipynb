{
 "cells": [
  {
   "cell_type": "code",
   "execution_count": 2,
   "metadata": {
    "ExecuteTime": {
     "end_time": "2017-10-10T13:33:41.166940Z",
     "start_time": "2017-10-10T13:33:40.583709Z"
    }
   },
   "outputs": [],
   "source": [
    "import pandas as pd\n",
    "import numpy as np\n",
    "import matplotlib.pyplot as plt\n",
    "from IPython.display import Image, display"
   ]
  },
  {
   "cell_type": "markdown",
   "metadata": {
    "slideshow": {
     "slide_type": "slide"
    }
   },
   "source": [
    "# Jupyter notebooks\n",
    "[Scott Sievert](http://stsievert.com)\n",
    "\n",
    "Slides available at http://github.com/stsievert/talks"
   ]
  },
  {
   "cell_type": "markdown",
   "metadata": {
    "slideshow": {
     "slide_type": "subslide"
    }
   },
   "source": [
    "How many familiar with Jupyter notebook? "
   ]
  },
  {
   "cell_type": "markdown",
   "metadata": {
    "slideshow": {
     "slide_type": "subslide"
    }
   },
   "source": [
    "They allow telling a story with\n",
    "\n",
    "* code and it's output\n",
    "* math \n",
    "* markdown."
   ]
  },
  {
   "cell_type": "markdown",
   "metadata": {
    "slideshow": {
     "slide_type": "subslide"
    }
   },
   "source": [
    "*Live demo*"
   ]
  },
  {
   "cell_type": "markdown",
   "metadata": {
    "slideshow": {
     "slide_type": "subslide"
    }
   },
   "source": [
    "They've been popular in many places! http://nbviewer.org/ shows examples, but they've been popular\n",
    "\n",
    "* ...with data scientists\n",
    "    * see Jake Vanderplas's [Python Data Science Handbook] (which is written in Jupyter notebooks!)\n",
    "* ...with educators\n",
    "    * [JupyterHub], [nbgrader]\n",
    "* ...with scientists supporting \"open science\"\n",
    "    * [LIGO gravitational waves]\n",
    "    \n",
    "[LIGO gravitational waves]:https://losc.ligo.org/s/events/GW150914/GW150914_tutorial.html\n",
    "[Python Data Science Handbook]:https://github.com/jakevdp/PythonDataScienceHandbook\n",
    "[JupyterHub]:https://jupyterhub.readthedocs.io/en/latest/\n",
    "[nbgrader]:http://nbgrader.readthedocs.io/en/stable/"
   ]
  },
  {
   "cell_type": "markdown",
   "metadata": {
    "slideshow": {
     "slide_type": "slide"
    }
   },
   "source": [
    "## Why the popularity?\n",
    "Because they allow\n",
    "\n",
    "1. Sharing code *and* results\n",
    "2. Interacting with code *and* output\n",
    "3. Narrating why certain events happened "
   ]
  },
  {
   "cell_type": "markdown",
   "metadata": {
    "slideshow": {
     "slide_type": "subslide"
    }
   },
   "source": [
    "Standalone scripts are not interactive is because they run their code all at once.\n",
    "\n",
    "Jupyter founder, Fernando Perez, saw a need for *interactive* scripts. "
   ]
  },
  {
   "cell_type": "markdown",
   "metadata": {
    "slideshow": {
     "slide_type": "subslide"
    }
   },
   "source": [
    "Interactive code := control over when select chunks of code are run. \n",
    "\n",
    "What does that look like?"
   ]
  },
  {
   "cell_type": "code",
   "execution_count": 21,
   "metadata": {
    "ExecuteTime": {
     "end_time": "2017-09-23T19:17:24.128508Z",
     "start_time": "2017-09-23T19:17:23.818606Z"
    },
    "slideshow": {
     "slide_type": "subslide"
    }
   },
   "outputs": [
    {
     "data": {
      "text/plain": [
       "<matplotlib.axes._subplots.AxesSubplot at 0x10e1c5dd8>"
      ]
     },
     "execution_count": 21,
     "metadata": {},
     "output_type": "execute_result"
    },
    {
     "data": {
      "image/png": "[encoded data removed]",
      "text/plain": [
       "<matplotlib.figure.Figure at 0x10e2223c8>"
      ]
     },
     "metadata": {
      "image/png": {
       "height": 263,
       "width": 375
      }
     },
     "output_type": "display_data"
    }
   ],
   "source": [
    "x = np.linspace(0, 10, num=50)\n",
    "y = x**2 + np.sin(x) * 10\n",
    "\n",
    "df = pd.DataFrame({'x': x, 'y': y})\n",
    "df.plot(x='x', y='y')"
   ]
  },
  {
   "cell_type": "markdown",
   "metadata": {
    "slideshow": {
     "slide_type": "subslide"
    }
   },
   "source": [
    "They also have markdown and $\\LaTeX$. Example:\n",
    "\n",
    "> We know that $e^{j\\pi} + 1 = 0$"
   ]
  },
  {
   "cell_type": "markdown",
   "metadata": {
    "slideshow": {
     "slide_type": "slide"
    }
   },
   "source": [
    "## Benefits\n",
    "* Can embed code output in file\n",
    "    * ...which enables *easy* sharing\n",
    "    * ...which enables interactive outputs\n",
    "* Can mix markdown + math + code + output together to tell story\n",
    "    * ...which enables *effective* sharing\n",
    "* Can choose which code runs when\n",
    "    * ...which enables high developer productivity\n",
    "    (i.e., iterating quickly on one section of code)"
   ]
  },
  {
   "cell_type": "code",
   "execution_count": null,
   "metadata": {},
   "outputs": [],
   "source": []
  },
  {
   "cell_type": "markdown",
   "metadata": {
    "slideshow": {
     "slide_type": "subslide"
    }
   },
   "source": [
    "Sharing illustrated via http://nbviewer.org/\n",
    "    \n",
    "Developer productivity illustrated by earlier example (with changing graph) "
   ]
  },
  {
   "cell_type": "markdown",
   "metadata": {
    "slideshow": {
     "slide_type": "slide"
    }
   },
   "source": [
    "## Modular"
   ]
  },
  {
   "cell_type": "markdown",
   "metadata": {
    "slideshow": {
     "slide_type": "-"
    }
   },
   "source": [
    "These Jupyter notebooks is not a Python-specific problem! "
   ]
  },
  {
   "cell_type": "code",
   "execution_count": 15,
   "metadata": {
    "ExecuteTime": {
     "end_time": "2017-09-23T18:56:22.217918Z",
     "start_time": "2017-09-23T18:56:22.203508Z"
    },
    "slideshow": {
     "slide_type": "-"
    }
   },
   "outputs": [
    {
     "data": {
      "image/png": "[encoded data removed]",
      "text/plain": [
       "<IPython.core.display.Image object>"
      ]
     },
     "execution_count": 15,
     "metadata": {},
     "output_type": "execute_result"
    }
   ],
   "source": [
    "Image('notebook_components.png')"
   ]
  },
  {
   "cell_type": "markdown",
   "metadata": {
    "slideshow": {
     "slide_type": "subslide"
    }
   },
   "source": [
    "* Many kernels are available\n",
    "    * Jupyter := **Ju**lia, **Pyt**on, and sometim**e**s **R**\n",
    "    * Many more available at [XXX]"
   ]
  },
  {
   "cell_type": "markdown",
   "metadata": {
    "slideshow": {
     "slide_type": "subslide"
    }
   },
   "source": [
    "* This problem formulation encodes the output directly in some file\n",
    "* Which means that the output can be interactive"
   ]
  },
  {
   "cell_type": "code",
   "execution_count": 4,
   "metadata": {
    "ExecuteTime": {
     "end_time": "2017-10-10T13:34:21.776949Z",
     "start_time": "2017-10-10T13:34:21.475458Z"
    },
    "slideshow": {
     "slide_type": "subslide"
    }
   },
   "outputs": [
    {
     "data": {
      "application/vnd.jupyter.widget-view+json": {
       "model_id": "dfbc527cee5f4917984d86ce70fa66d9",
       "version_major": 2,
       "version_minor": 0
      },
      "text/html": [
       "<p>Failed to display Jupyter Widget of type <code>interactive</code>.</p>\n",
       "<p>\n",
       "  If you're reading this message in Jupyter Notebook or JupyterLab, it may mean\n",
       "  that the widgets JavaScript is still loading. If this message persists, it\n",
       "  likely means that the widgets JavaScript library is either not installed or\n",
       "  not enabled. See the <a href=\"https://ipywidgets.readthedocs.io/en/stable/user_install.html\">Jupyter\n",
       "  Widgets Documentation</a> for setup instructions.\n",
       "</p>\n",
       "<p>\n",
       "  If you're reading this message in another notebook frontend (for example, a static\n",
       "  rendering on GitHub or <a href=\"https://nbviewer.jupyter.org/\">NBViewer</a>),\n",
       "  it may mean that your frontend doesn't currently support widgets.\n",
       "</p>\n"
      ],
      "text/plain": [
       "interactive(children=(IntSlider(value=2, description='pwr', max=4), FloatSlider(value=5.0, description='freq', max=10.0), Output()), _dom_classes=('widget-interact',))"
      ]
     },
     "metadata": {},
     "output_type": "display_data"
    }
   ],
   "source": [
    "from ipywidgets import interact\n",
    "\n",
    "def f(x, pwr=2, freq=1):\n",
    "    return x**pwr * np.sin(freq*x)\n",
    "\n",
    "def plot(**kwargs):\n",
    "    x = np.linspace(0, 2*np.pi, num=1000)\n",
    "    y = f(x, **kwargs)\n",
    "    fig = plt.figure()\n",
    "    _ = plt.plot(x, y)\n",
    "    plt.show()\n",
    "#     return fig\n",
    "\n",
    "_ = interact(plot, pwr=(0, 4), freq=(0.0, 10.0))"
   ]
  },
  {
   "cell_type": "markdown",
   "metadata": {
    "slideshow": {
     "slide_type": "subslide"
    }
   },
   "source": [
    "That's the Jupyter notebook. It's super useful."
   ]
  },
  {
   "cell_type": "markdown",
   "metadata": {
    "slideshow": {
     "slide_type": "subslide"
    }
   },
   "source": [
    "## Tools\n",
    "These lower the barrier using Jupyter.\n",
    "\n",
    "* nbextensions\n",
    "    * Easy to install\n",
    "    * Many extensions, easy to configure\n",
    "    * Including {vim, emacs, sublime} bindings for code cells!\n",
    "* nbdime\n",
    "    * for git diff/merge\n",
    "* [nbflow]\n",
    "    * useful for open science\n",
    "    * defines DAG on inputs/outputs to each notebook"
   ]
  },
  {
   "cell_type": "markdown",
   "metadata": {
    "slideshow": {
     "slide_type": "slide"
    }
   },
   "source": [
    "## Applications\n",
    "* Sharing\n",
    "    * via [GitHub repo rendering] (e.g., [jakevdp/Python-for-Data-Scientists])\n",
    "    * via running notebooks *live in the browser* with http://mybinder.org\n",
    "    * via http://nbviewer.org\n",
    "* Education\n",
    "    * via [nbgrader], which allows distributed homework with Jupyter notebook \n",
    "* Science\n",
    "    * via JupyterHub, which allows running notebooks in browser (i.e., lowers barrier to accessing cluster resources) \n",
    "    * It's also pretty popular on GitHub "
   ]
  },
  {
   "cell_type": "markdown",
   "metadata": {
    "slideshow": {
     "slide_type": "slide"
    }
   },
   "source": [
    "## JupyterLab\n",
    "An IDE for Jupyter when IDE := *interactive* development environment.\n",
    "\n",
    "i.e., it makes it easy to interact with various development tools \n",
    "\n",
    "***Warning: still in beta** (but not alpha!)*"
   ]
  },
  {
   "cell_type": "markdown",
   "metadata": {
    "slideshow": {
     "slide_type": "subslide"
    }
   },
   "source": [
    "That is, tools like\n",
    "\n",
    "* Jupyter notebooks\n",
    "    * drop-in replacement for Jupyter notebook\n",
    "    * drag 'n drop! (and between notebooks!)\n",
    "    * multiple notebooks! multiple views!\n",
    "* File viewers/editors\n",
    "    * Text files (including `.py` files, etc)\n",
    "    * Various files (e.g, JSON, CSV, GeoJSON, Markdown) \n",
    "* Shell\n",
    "* Kernel console\n",
    "    * can attach to notebook"
   ]
  },
  {
   "cell_type": "markdown",
   "metadata": {
    "slideshow": {
     "slide_type": "subslide"
    }
   },
   "source": [
    "*Live demo*\n",
    "\n",
    "Notes:\n",
    "\n",
    "* Notebook\n",
    "    * File > New View into File\n",
    "* Shell\n",
    "    * Files > \"+\" > Terminal\n",
    "* Terminal\n",
    "     * Notebook > Create console...\n",
    "     * Files > \"+\" > Console\n",
    "* Editor\n",
    "    * cntrl-click > new console for editor. Highlight text > shift-enter to run in console."
   ]
  },
  {
   "cell_type": "markdown",
   "metadata": {
    "slideshow": {
     "slide_type": "subslide"
    }
   },
   "source": [
    "This enables new interactivity.\n",
    "\n",
    "* Markdown live editor (live demo)\n",
    "* Real time collaboration"
   ]
  },
  {
   "cell_type": "markdown",
   "metadata": {
    "slideshow": {
     "slide_type": "slide"
    }
   },
   "source": [
    "## Links\n",
    "These slides are available at https://github.com/stsievert/talks\n",
    "\n",
    "* [JupyterLab: Building Blocks for Interactive Computing], the release at SciPy 2016 \n",
    "* [Reproducible, One Button Workflows with the Jupyter Notebook & Scons] at SciPy 2016 on [nbflow]\n",
    "* [Jupyter+Real time collaboration] at PyData Seattle 2017\n",
    "* [Interactive Data Visualization in JupyterLab with Jupyter] by a core developer of ipywidgets at PLOTCON 2017 \n",
    "* Hooking together IPython console and text file: https://twitter.com/choldgraf/status/915285622792765445 (cntrl-click on editor, create console, then shift-enter on highlighted block)\n",
    "\n",
    "[Reproducible, One Button Workflows with the Jupyter Notebook & Scons]:https://www.youtube.com/watch?v=Fc2W930NJs8\n",
    "[Interactive Data Visualization in JupyterLab with Jupyter]:https://www.youtube.com/watch?v=p7Hr54VhOp0\n",
    "[JupyterLab: Building Blocks for Interactive Computing]:https://www.youtube.com/watch?v=Ejh0ftSjk6g\n",
    "[Jupyter+Real time collaboration]:https://www.youtube.com/watch?v=tHZT_mpNRcY"
   ]
  },
  {
   "cell_type": "code",
   "execution_count": null,
   "metadata": {
    "collapsed": true
   },
   "outputs": [],
   "source": []
  }
 ],
 "metadata": {
  "celltoolbar": "Slideshow",
  "kernelspec": {
   "display_name": "Python [default]",
   "language": "python",
   "name": "python3"
  },
  "language_info": {
   "codemirror_mode": {
    "name": "ipython",
    "version": 3
   },
   "file_extension": ".py",
   "mimetype": "text/x-python",
   "name": "python",
   "nbconvert_exporter": "python",
   "pygments_lexer": "ipython3",
   "version": "3.6.1"
  }
 },
 "nbformat": 4,
 "nbformat_minor": 2
}
