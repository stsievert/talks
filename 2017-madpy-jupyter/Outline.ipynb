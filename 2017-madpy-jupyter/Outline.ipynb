{
 "cells": [
  {
   "cell_type": "markdown",
   "metadata": {},
   "source": [
    "* Abstract\n",
    "* Introduction\n",
    "* Problem\n",
    "* Existing tools\n",
    "* Solution benefits\n",
    "* Solution details\n",
    "* Conclusion"
   ]
  },
  {
   "cell_type": "markdown",
   "metadata": {},
   "source": [
    "## Motivation\n",
    "* Introduction\n",
    "    * This talk will be on Jupyter notebooks\n",
    "    * Environment for \"computational narratives\"\n",
    "    * allows to tell story with code+math+markdown \n",
    "    * Useful for sharing! (science, github, classes, etc)\n",
    "    * Useful for *interacting* with code\n",
    "    * Used by scientists + researchers + educators ([2015 survey results])\n",
    "* Problem\n",
    "    * Data science requires close data integration \n",
    "    * Scripts are standalone and hard to interact with\n",
    "    * In general, need to make code more interactive\n",
    "    * This is actually a general problem\n",
    "* Solution\n",
    "    * code interactivity is defined to be \n",
    "        * what code runs when \n",
    "        * see the outputs\n",
    "        * immediate benefit: long running code not necessary\n",
    "    * How does this present itself?\n",
    "    * *live demo with altair*\n",
    "        * different cells (markdown, latex, code)\n",
    "        * iterate on cells\n",
    "* Examples of solution\n",
    "    * interactive code\n",
    "        * I use it every day, and find myself gravitating towards it\n",
    "    * interactive output\n",
    "        * ipywidgets (and system built on top of it)\n",
    "    * sharing\n",
    "        * LIGO gravitational waves\n",
    "        * jakevdp textbook\n",
    "        * github examples\n",
    "* Conclusion\n",
    "    * useful\n",
    "    \n",
    "    \n",
    "[2015 survey results]:https://github.com/jupyter/surveys/blob/952fd3bfc44fb3b63b911b7ffe785fd09b84e4e9/surveys/2015-12-notebook-ux/analysis/report_dashboard.ipynb"
   ]
  },
  {
   "cell_type": "markdown",
   "metadata": {},
   "source": [
    "### Servers\n",
    "* Can connect to notebook on EC2 instance\n",
    "* SciPy 2017: clicked big blue button"
   ]
  },
  {
   "cell_type": "markdown",
   "metadata": {},
   "source": [
    "### Sharing\n",
    "* GitHub repo uses Jupyter notebooks? Run them in your browser! http://mybinder.org\n",
    "* nbviewer"
   ]
  },
  {
   "cell_type": "markdown",
   "metadata": {},
   "source": [
    "### Future work\n",
    "* Jupyterlab\n",
    "    * takes blocks Jupyter notebooks gives and allows building on them \n",
    "        * i.e., not only one notebook open at once \n",
    "    * to show:\n",
    "        * allows everything the notebook allows\n",
    "        * show csv editing \n",
    "        * new file\n",
    "        * new view into file\n",
    "        * new console for notebook (towards end of \"Notebook\" menu)\n",
    "        * markdown live editor (cntrl-click on file, \"Open with...\") \n",
    "        * real time collaboration (see \"[Jupyter+Real time collaboration]\")\n",
    "    \n",
    "[Jupyter+Real time collaboration]:https://www.youtube.com/watch?v=tHZT_mpNRcY"
   ]
  },
  {
   "cell_type": "markdown",
   "metadata": {},
   "source": [
    "### Tooling\n",
    "The problem Jupyter solves is very general, and very interesting.\n",
    "\n",
    "I primarily use Jupyter because of interacting with code. But, there are some other things that make it a little easier. These are the tools I use:\n",
    "\n",
    "* nbextensions (easy install!)\n",
    "    * {vim, emacs, sublime} key bindings\n",
    "    * execute time\n",
    "    * notification when cell finished\n",
    "* nbshow\n",
    "    * for git diff/merge\n",
    "    * "
   ]
  },
  {
   "cell_type": "code",
   "execution_count": null,
   "metadata": {
    "collapsed": true
   },
   "outputs": [],
   "source": []
  }
 ],
 "metadata": {
  "kernelspec": {
   "display_name": "Python [default]",
   "language": "python",
   "name": "python3"
  },
  "language_info": {
   "codemirror_mode": {
    "name": "ipython",
    "version": 3
   },
   "file_extension": ".py",
   "mimetype": "text/x-python",
   "name": "python",
   "nbconvert_exporter": "python",
   "pygments_lexer": "ipython3",
   "version": "3.6.1"
  }
 },
 "nbformat": 4,
 "nbformat_minor": 2
}
