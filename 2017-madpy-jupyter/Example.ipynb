{
 "cells": [
  {
   "cell_type": "code",
   "execution_count": 2,
   "metadata": {
    "ExecuteTime": {
     "end_time": "2017-10-19T23:10:06.696988Z",
     "start_time": "2017-10-19T23:10:05.287243Z"
    }
   },
   "outputs": [],
   "source": [
    "import numpy as np\n",
    "import numpy.linalg as LA\n",
    "import pandas as pd\n",
    "import time\n",
    "import sklearn\n",
    "from sklearn import linear_model "
   ]
  },
  {
   "cell_type": "code",
   "execution_count": 8,
   "metadata": {
    "ExecuteTime": {
     "end_time": "2017-10-19T23:10:06.733062Z",
     "start_time": "2017-10-19T23:10:06.699133Z"
    }
   },
   "outputs": [],
   "source": [
    "def sparse_vector(n, k):\n",
    "    x = np.zeros(n)\n",
    "    i = np.random.permutation(n)\n",
    "    x[i[:k]] = 2\n",
    "    return x\n",
    "    \n",
    "def get_signals(n, d, k):\n",
    "    x = sparse_vector(d, k)\n",
    "    A = np.random.randn(n, d)\n",
    "    y = A @ x\n",
    "    return y, A, x\n",
    "\n",
    "def get_stats(model, x_star):\n",
    "    x_hat = model.coef_\n",
    "    return {'rel_error': LA.norm(x_hat - x_star) / LA.norm(x_star)}\n",
    "\n",
    "def solve(n=100, d=1000, sparse=10, seed=42, **kwargs):\n",
    "    np.random.seed(seed)\n",
    "    y, A, x = get_signals(n, d, sparse)\n",
    "    model = linear_model.Lasso(max_iter=1000, tol=0, alpha=1e-2 * sparse)\n",
    "    model.fit(A, y)\n",
    "    \n",
    "    return {'num_observations': n, 'signal_dimension': d, 'seed': seed, \n",
    "            'sparsity': sparse, **get_stats(model, x)}"
   ]
  },
  {
   "cell_type": "code",
   "execution_count": 4,
   "metadata": {
    "ExecuteTime": {
     "end_time": "2017-10-19T23:10:06.747097Z",
     "start_time": "2017-10-19T23:10:06.735556Z"
    }
   },
   "outputs": [
    {
     "data": {
      "text/plain": [
       "'0.19.0'"
      ]
     },
     "execution_count": 4,
     "metadata": {},
     "output_type": "execute_result"
    }
   ],
   "source": [
    "d = 100\n",
    "data = []\n",
    "sklearn.__version__"
   ]
  },
  {
   "cell_type": "code",
   "execution_count": 5,
   "metadata": {
    "ExecuteTime": {
     "end_time": "2017-10-19T23:10:21.601568Z",
     "start_time": "2017-10-19T23:10:06.750149Z"
    },
    "scrolled": true
   },
   "outputs": [
    {
     "name": "stdout",
     "output_type": "stream",
     "text": [
      "n=0, k=0, seed=0\n"
     ]
    },
    {
     "name": "stderr",
     "output_type": "stream",
     "text": [
      "/Users/scott/anaconda/lib/python3.6/site-packages/sklearn/linear_model/coordinate_descent.py:491: ConvergenceWarning: Objective did not converge. You might want to increase the number of iterations. Fitting data with very small alpha may cause precision problems.\n",
      "  ConvergenceWarning)\n"
     ]
    },
    {
     "name": "stdout",
     "output_type": "stream",
     "text": [
      "n=100, k=100, seed=1\n",
      "n=100, k=100, seed=2\n",
      "n=100, k=100, seed=3\n"
     ]
    }
   ],
   "source": [
    "n, k = 0, 0\n",
    "for seed in range(4):\n",
    "    print(f\"n={n}, k={k}, seed={seed}\")\n",
    "    for k in np.logspace(0, 2, num=30, dtype=int):\n",
    "        for n in np.logspace(1, np.log10(d), num=30, dtype=int):\n",
    "            data += [solve(n=n, d=d, sparse=k, seed=seed)]"
   ]
  },
  {
   "cell_type": "code",
   "execution_count": 6,
   "metadata": {
    "ExecuteTime": {
     "end_time": "2017-10-19T23:10:21.833563Z",
     "start_time": "2017-10-19T23:10:21.603786Z"
    }
   },
   "outputs": [
    {
     "data": {
      "text/html": [
       "<div>\n",
       "<style>\n",
       "    .dataframe thead tr:only-child th {\n",
       "        text-align: right;\n",
       "    }\n",
       "\n",
       "    .dataframe thead th {\n",
       "        text-align: left;\n",
       "    }\n",
       "\n",
       "    .dataframe tbody tr th {\n",
       "        vertical-align: top;\n",
       "    }\n",
       "</style>\n",
       "<table border=\"1\" class=\"dataframe\">\n",
       "  <thead>\n",
       "    <tr style=\"text-align: right;\">\n",
       "      <th></th>\n",
       "      <th>num_observations</th>\n",
       "      <th>rel_error</th>\n",
       "      <th>seed</th>\n",
       "      <th>signal_dimension</th>\n",
       "      <th>sparsity</th>\n",
       "    </tr>\n",
       "  </thead>\n",
       "  <tbody>\n",
       "    <tr>\n",
       "      <th>0</th>\n",
       "      <td>10</td>\n",
       "      <td>1.108294</td>\n",
       "      <td>0</td>\n",
       "      <td>100</td>\n",
       "      <td>1</td>\n",
       "    </tr>\n",
       "    <tr>\n",
       "      <th>1</th>\n",
       "      <td>10</td>\n",
       "      <td>1.108294</td>\n",
       "      <td>0</td>\n",
       "      <td>100</td>\n",
       "      <td>1</td>\n",
       "    </tr>\n",
       "    <tr>\n",
       "      <th>2</th>\n",
       "      <td>11</td>\n",
       "      <td>0.030519</td>\n",
       "      <td>0</td>\n",
       "      <td>100</td>\n",
       "      <td>1</td>\n",
       "    </tr>\n",
       "    <tr>\n",
       "      <th>3</th>\n",
       "      <td>12</td>\n",
       "      <td>0.029691</td>\n",
       "      <td>0</td>\n",
       "      <td>100</td>\n",
       "      <td>1</td>\n",
       "    </tr>\n",
       "    <tr>\n",
       "      <th>4</th>\n",
       "      <td>13</td>\n",
       "      <td>0.014831</td>\n",
       "      <td>0</td>\n",
       "      <td>100</td>\n",
       "      <td>1</td>\n",
       "    </tr>\n",
       "  </tbody>\n",
       "</table>\n",
       "</div>"
      ],
      "text/plain": [
       "   num_observations  rel_error  seed  signal_dimension  sparsity\n",
       "0                10   1.108294     0               100         1\n",
       "1                10   1.108294     0               100         1\n",
       "2                11   0.030519     0               100         1\n",
       "3                12   0.029691     0               100         1\n",
       "4                13   0.014831     0               100         1"
      ]
     },
     "execution_count": 6,
     "metadata": {},
     "output_type": "execute_result"
    }
   ],
   "source": [
    "import seaborn as sns\n",
    "df = pd.DataFrame(data)\n",
    "df.to_csv('results.csv')\n",
    "df.head()"
   ]
  },
  {
   "cell_type": "code",
   "execution_count": 7,
   "metadata": {
    "ExecuteTime": {
     "end_time": "2017-10-19T23:10:21.860669Z",
     "start_time": "2017-10-19T23:10:21.836576Z"
    }
   },
   "outputs": [],
   "source": [
    "show = df.pivot_table(columns='sparsity', index='num_observations', values='rel_error')"
   ]
  },
  {
   "cell_type": "markdown",
   "metadata": {},
   "source": [
    "This is something"
   ]
  },
  {
   "cell_type": "markdown",
   "metadata": {},
   "source": [
    "This is **bold** $e^{j\\pi} + 1 = 0$"
   ]
  },
  {
   "cell_type": "code",
   "execution_count": 1,
   "metadata": {
    "ExecuteTime": {
     "end_time": "2017-10-19T23:11:11.037676Z",
     "start_time": "2017-10-19T23:11:10.367338Z"
    }
   },
   "outputs": [
    {
     "ename": "NameError",
     "evalue": "name 'sns' is not defined",
     "output_type": "error",
     "traceback": [
      "\u001b[0;31m---------------------------------------------------------------------------\u001b[0m",
      "\u001b[0;31mNameError\u001b[0m                                 Traceback (most recent call last)",
      "\u001b[0;32m<ipython-input-1-fa6596b6126d>\u001b[0m in \u001b[0;36m<module>\u001b[0;34m()\u001b[0m\n\u001b[0;32m----> 1\u001b[0;31m \u001b[0msns\u001b[0m\u001b[0;34m.\u001b[0m\u001b[0mheatmap\u001b[0m\u001b[0;34m(\u001b[0m\u001b[0mshow\u001b[0m\u001b[0;34m)\u001b[0m\u001b[0;34m\u001b[0m\u001b[0m\n\u001b[0m",
      "\u001b[0;31mNameError\u001b[0m: name 'sns' is not defined"
     ]
    }
   ],
   "source": [
    "sns.heatmap(show)"
   ]
  },
  {
   "cell_type": "code",
   "execution_count": 12,
   "metadata": {
    "ExecuteTime": {
     "end_time": "2017-10-19T23:50:50.506984Z",
     "start_time": "2017-10-19T23:50:50.503046Z"
    }
   },
   "outputs": [],
   "source": [
    "import os"
   ]
  },
  {
   "cell_type": "code",
   "execution_count": 14,
   "metadata": {
    "ExecuteTime": {
     "end_time": "2017-10-19T23:51:02.287076Z",
     "start_time": "2017-10-19T23:51:02.279889Z"
    }
   },
   "outputs": [],
   "source": [
    "os.access?"
   ]
  },
  {
   "cell_type": "code",
   "execution_count": null,
   "metadata": {},
   "outputs": [],
   "source": []
  }
 ],
 "metadata": {
  "kernelspec": {
   "display_name": "Python [default]",
   "language": "python",
   "name": "python3"
  },
  "language_info": {
   "codemirror_mode": {
    "name": "ipython",
    "version": 3
   },
   "file_extension": ".py",
   "mimetype": "text/x-python",
   "name": "python",
   "nbconvert_exporter": "python",
   "pygments_lexer": "ipython3",
   "version": "3.6.1"
  }
 },
 "nbformat": 4,
 "nbformat_minor": 2
}
